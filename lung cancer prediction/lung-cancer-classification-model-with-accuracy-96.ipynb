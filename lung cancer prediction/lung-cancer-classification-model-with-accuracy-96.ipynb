{
 "cells": [
  {
   "cell_type": "code",
   "execution_count": 1,
   "id": "4135a2b3",
   "metadata": {
    "_cell_guid": "b1076dfc-b9ad-4769-8c92-a6c4dae69d19",
    "_uuid": "8f2839f25d086af736a60e9eeb907d3b93b6e0e5",
    "execution": {
     "iopub.execute_input": "2024-01-14T06:29:39.969911Z",
     "iopub.status.busy": "2024-01-14T06:29:39.969190Z",
     "iopub.status.idle": "2024-01-14T06:29:40.446861Z",
     "shell.execute_reply": "2024-01-14T06:29:40.445513Z"
    },
    "papermill": {
     "duration": 0.497554,
     "end_time": "2024-01-14T06:29:40.449642",
     "exception": false,
     "start_time": "2024-01-14T06:29:39.952088",
     "status": "completed"
    },
    "tags": []
   },
   "outputs": [
    {
     "name": "stdout",
     "output_type": "stream",
     "text": [
      "/kaggle/input/lung-cancer/survey lung cancer.csv\n"
     ]
    }
   ],
   "source": [
    "# This Python 3 environment comes with many helpful analytics libraries installed\n",
    "# It is defined by the kaggle/python Docker image: https://github.com/kaggle/docker-python\n",
    "# For example, here's several helpful packages to load\n",
    "\n",
    "import numpy as np # linear algebra\n",
    "import pandas as pd # data processing, CSV file I/O (e.g. pd.read_csv)\n",
    "\n",
    "# Input data files are available in the read-only \"../input/\" directory\n",
    "# For example, running this (by clicking run or pressing Shift+Enter) will list all files under the input directory\n",
    "\n",
    "import os\n",
    "for dirname, _, filenames in os.walk('/kaggle/input'):\n",
    "    for filename in filenames:\n",
    "        print(os.path.join(dirname, filename))\n",
    "\n",
    "# You can write up to 20GB to the current directory (/kaggle/working/) that gets preserved as output when you create a version using \"Save & Run All\" \n",
    "# You can also write temporary files to /kaggle/temp/, but they won't be saved outside of the current session"
   ]
  },
  {
   "cell_type": "markdown",
   "id": "8b799dbf",
   "metadata": {
    "papermill": {
     "duration": 0.01432,
     "end_time": "2024-01-14T06:29:40.478949",
     "exception": false,
     "start_time": "2024-01-14T06:29:40.464629",
     "status": "completed"
    },
    "tags": []
   },
   "source": [
    "# import libraries"
   ]
  },
  {
   "cell_type": "code",
   "execution_count": 2,
   "id": "55f4f6fa",
   "metadata": {
    "execution": {
     "iopub.execute_input": "2024-01-14T06:29:40.509964Z",
     "iopub.status.busy": "2024-01-14T06:29:40.509268Z",
     "iopub.status.idle": "2024-01-14T06:29:43.040653Z",
     "shell.execute_reply": "2024-01-14T06:29:43.038972Z"
    },
    "papermill": {
     "duration": 2.550896,
     "end_time": "2024-01-14T06:29:43.044100",
     "exception": false,
     "start_time": "2024-01-14T06:29:40.493204",
     "status": "completed"
    },
    "tags": []
   },
   "outputs": [],
   "source": [
    "import numpy as np \n",
    "import matplotlib.pyplot as plt\n",
    "import seaborn as sns \n",
    "import pandas as pd\n",
    "from sklearn.model_selection import train_test_split\n",
    "from sklearn.linear_model  import LogisticRegression\n",
    "from sklearn.tree import DecisionTreeClassifier\n",
    "from sklearn.ensemble import RandomForestClassifier\n",
    "import xgboost as xgb\n",
    "from sklearn.metrics import roc_curve,roc_auc_score\n",
    "from sklearn.model_selection import cross_val_score\n"
   ]
  },
  {
   "cell_type": "code",
   "execution_count": 3,
   "id": "01b67379",
   "metadata": {
    "execution": {
     "iopub.execute_input": "2024-01-14T06:29:43.074935Z",
     "iopub.status.busy": "2024-01-14T06:29:43.074461Z",
     "iopub.status.idle": "2024-01-14T06:29:43.125121Z",
     "shell.execute_reply": "2024-01-14T06:29:43.123881Z"
    },
    "papermill": {
     "duration": 0.069497,
     "end_time": "2024-01-14T06:29:43.127867",
     "exception": false,
     "start_time": "2024-01-14T06:29:43.058370",
     "status": "completed"
    },
    "tags": []
   },
   "outputs": [
    {
     "data": {
      "text/html": [
       "<div>\n",
       "<style scoped>\n",
       "    .dataframe tbody tr th:only-of-type {\n",
       "        vertical-align: middle;\n",
       "    }\n",
       "\n",
       "    .dataframe tbody tr th {\n",
       "        vertical-align: top;\n",
       "    }\n",
       "\n",
       "    .dataframe thead th {\n",
       "        text-align: right;\n",
       "    }\n",
       "</style>\n",
       "<table border=\"1\" class=\"dataframe\">\n",
       "  <thead>\n",
       "    <tr style=\"text-align: right;\">\n",
       "      <th></th>\n",
       "      <th>GENDER</th>\n",
       "      <th>AGE</th>\n",
       "      <th>SMOKING</th>\n",
       "      <th>YELLOW_FINGERS</th>\n",
       "      <th>ANXIETY</th>\n",
       "      <th>PEER_PRESSURE</th>\n",
       "      <th>CHRONIC DISEASE</th>\n",
       "      <th>FATIGUE</th>\n",
       "      <th>ALLERGY</th>\n",
       "      <th>WHEEZING</th>\n",
       "      <th>ALCOHOL CONSUMING</th>\n",
       "      <th>COUGHING</th>\n",
       "      <th>SHORTNESS OF BREATH</th>\n",
       "      <th>SWALLOWING DIFFICULTY</th>\n",
       "      <th>CHEST PAIN</th>\n",
       "      <th>LUNG_CANCER</th>\n",
       "    </tr>\n",
       "  </thead>\n",
       "  <tbody>\n",
       "    <tr>\n",
       "      <th>0</th>\n",
       "      <td>M</td>\n",
       "      <td>69</td>\n",
       "      <td>1</td>\n",
       "      <td>2</td>\n",
       "      <td>2</td>\n",
       "      <td>1</td>\n",
       "      <td>1</td>\n",
       "      <td>2</td>\n",
       "      <td>1</td>\n",
       "      <td>2</td>\n",
       "      <td>2</td>\n",
       "      <td>2</td>\n",
       "      <td>2</td>\n",
       "      <td>2</td>\n",
       "      <td>2</td>\n",
       "      <td>YES</td>\n",
       "    </tr>\n",
       "    <tr>\n",
       "      <th>1</th>\n",
       "      <td>M</td>\n",
       "      <td>74</td>\n",
       "      <td>2</td>\n",
       "      <td>1</td>\n",
       "      <td>1</td>\n",
       "      <td>1</td>\n",
       "      <td>2</td>\n",
       "      <td>2</td>\n",
       "      <td>2</td>\n",
       "      <td>1</td>\n",
       "      <td>1</td>\n",
       "      <td>1</td>\n",
       "      <td>2</td>\n",
       "      <td>2</td>\n",
       "      <td>2</td>\n",
       "      <td>YES</td>\n",
       "    </tr>\n",
       "    <tr>\n",
       "      <th>2</th>\n",
       "      <td>F</td>\n",
       "      <td>59</td>\n",
       "      <td>1</td>\n",
       "      <td>1</td>\n",
       "      <td>1</td>\n",
       "      <td>2</td>\n",
       "      <td>1</td>\n",
       "      <td>2</td>\n",
       "      <td>1</td>\n",
       "      <td>2</td>\n",
       "      <td>1</td>\n",
       "      <td>2</td>\n",
       "      <td>2</td>\n",
       "      <td>1</td>\n",
       "      <td>2</td>\n",
       "      <td>NO</td>\n",
       "    </tr>\n",
       "    <tr>\n",
       "      <th>3</th>\n",
       "      <td>M</td>\n",
       "      <td>63</td>\n",
       "      <td>2</td>\n",
       "      <td>2</td>\n",
       "      <td>2</td>\n",
       "      <td>1</td>\n",
       "      <td>1</td>\n",
       "      <td>1</td>\n",
       "      <td>1</td>\n",
       "      <td>1</td>\n",
       "      <td>2</td>\n",
       "      <td>1</td>\n",
       "      <td>1</td>\n",
       "      <td>2</td>\n",
       "      <td>2</td>\n",
       "      <td>NO</td>\n",
       "    </tr>\n",
       "    <tr>\n",
       "      <th>4</th>\n",
       "      <td>F</td>\n",
       "      <td>63</td>\n",
       "      <td>1</td>\n",
       "      <td>2</td>\n",
       "      <td>1</td>\n",
       "      <td>1</td>\n",
       "      <td>1</td>\n",
       "      <td>1</td>\n",
       "      <td>1</td>\n",
       "      <td>2</td>\n",
       "      <td>1</td>\n",
       "      <td>2</td>\n",
       "      <td>2</td>\n",
       "      <td>1</td>\n",
       "      <td>1</td>\n",
       "      <td>NO</td>\n",
       "    </tr>\n",
       "  </tbody>\n",
       "</table>\n",
       "</div>"
      ],
      "text/plain": [
       "  GENDER  AGE  SMOKING  YELLOW_FINGERS  ANXIETY  PEER_PRESSURE  \\\n",
       "0      M   69        1               2        2              1   \n",
       "1      M   74        2               1        1              1   \n",
       "2      F   59        1               1        1              2   \n",
       "3      M   63        2               2        2              1   \n",
       "4      F   63        1               2        1              1   \n",
       "\n",
       "   CHRONIC DISEASE  FATIGUE   ALLERGY   WHEEZING  ALCOHOL CONSUMING  COUGHING  \\\n",
       "0                1         2         1         2                  2         2   \n",
       "1                2         2         2         1                  1         1   \n",
       "2                1         2         1         2                  1         2   \n",
       "3                1         1         1         1                  2         1   \n",
       "4                1         1         1         2                  1         2   \n",
       "\n",
       "   SHORTNESS OF BREATH  SWALLOWING DIFFICULTY  CHEST PAIN LUNG_CANCER  \n",
       "0                    2                      2           2         YES  \n",
       "1                    2                      2           2         YES  \n",
       "2                    2                      1           2          NO  \n",
       "3                    1                      2           2          NO  \n",
       "4                    2                      1           1          NO  "
      ]
     },
     "execution_count": 3,
     "metadata": {},
     "output_type": "execute_result"
    }
   ],
   "source": [
    "df=pd.read_csv('/kaggle/input/lung-cancer/survey lung cancer.csv')\n",
    "df.head()"
   ]
  },
  {
   "cell_type": "markdown",
   "id": "759b6bed",
   "metadata": {
    "papermill": {
     "duration": 0.015747,
     "end_time": "2024-01-14T06:29:43.159468",
     "exception": false,
     "start_time": "2024-01-14T06:29:43.143721",
     "status": "completed"
    },
    "tags": []
   },
   "source": [
    " # Data Cleaning\n",
    "* **check the null values** \n",
    "* **check the duplicates**\n",
    "* **check the statistics summry of the data set**\n",
    "* **check the data set data types**"
   ]
  },
  {
   "cell_type": "code",
   "execution_count": 4,
   "id": "25798276",
   "metadata": {
    "execution": {
     "iopub.execute_input": "2024-01-14T06:29:43.193852Z",
     "iopub.status.busy": "2024-01-14T06:29:43.193411Z",
     "iopub.status.idle": "2024-01-14T06:29:43.224044Z",
     "shell.execute_reply": "2024-01-14T06:29:43.222457Z"
    },
    "papermill": {
     "duration": 0.050749,
     "end_time": "2024-01-14T06:29:43.226753",
     "exception": false,
     "start_time": "2024-01-14T06:29:43.176004",
     "status": "completed"
    },
    "tags": []
   },
   "outputs": [
    {
     "name": "stdout",
     "output_type": "stream",
     "text": [
      "<class 'pandas.core.frame.DataFrame'>\n",
      "RangeIndex: 309 entries, 0 to 308\n",
      "Data columns (total 16 columns):\n",
      " #   Column                 Non-Null Count  Dtype \n",
      "---  ------                 --------------  ----- \n",
      " 0   GENDER                 309 non-null    object\n",
      " 1   AGE                    309 non-null    int64 \n",
      " 2   SMOKING                309 non-null    int64 \n",
      " 3   YELLOW_FINGERS         309 non-null    int64 \n",
      " 4   ANXIETY                309 non-null    int64 \n",
      " 5   PEER_PRESSURE          309 non-null    int64 \n",
      " 6   CHRONIC DISEASE        309 non-null    int64 \n",
      " 7   FATIGUE                309 non-null    int64 \n",
      " 8   ALLERGY                309 non-null    int64 \n",
      " 9   WHEEZING               309 non-null    int64 \n",
      " 10  ALCOHOL CONSUMING      309 non-null    int64 \n",
      " 11  COUGHING               309 non-null    int64 \n",
      " 12  SHORTNESS OF BREATH    309 non-null    int64 \n",
      " 13  SWALLOWING DIFFICULTY  309 non-null    int64 \n",
      " 14  CHEST PAIN             309 non-null    int64 \n",
      " 15  LUNG_CANCER            309 non-null    object\n",
      "dtypes: int64(14), object(2)\n",
      "memory usage: 38.8+ KB\n"
     ]
    }
   ],
   "source": [
    "df.info()"
   ]
  },
  {
   "cell_type": "code",
   "execution_count": 5,
   "id": "56da119c",
   "metadata": {
    "execution": {
     "iopub.execute_input": "2024-01-14T06:29:43.258584Z",
     "iopub.status.busy": "2024-01-14T06:29:43.258107Z",
     "iopub.status.idle": "2024-01-14T06:29:43.317909Z",
     "shell.execute_reply": "2024-01-14T06:29:43.316666Z"
    },
    "papermill": {
     "duration": 0.079189,
     "end_time": "2024-01-14T06:29:43.321114",
     "exception": false,
     "start_time": "2024-01-14T06:29:43.241925",
     "status": "completed"
    },
    "tags": []
   },
   "outputs": [
    {
     "data": {
      "text/html": [
       "<div>\n",
       "<style scoped>\n",
       "    .dataframe tbody tr th:only-of-type {\n",
       "        vertical-align: middle;\n",
       "    }\n",
       "\n",
       "    .dataframe tbody tr th {\n",
       "        vertical-align: top;\n",
       "    }\n",
       "\n",
       "    .dataframe thead th {\n",
       "        text-align: right;\n",
       "    }\n",
       "</style>\n",
       "<table border=\"1\" class=\"dataframe\">\n",
       "  <thead>\n",
       "    <tr style=\"text-align: right;\">\n",
       "      <th></th>\n",
       "      <th>AGE</th>\n",
       "      <th>SMOKING</th>\n",
       "      <th>YELLOW_FINGERS</th>\n",
       "      <th>ANXIETY</th>\n",
       "      <th>PEER_PRESSURE</th>\n",
       "      <th>CHRONIC DISEASE</th>\n",
       "      <th>FATIGUE</th>\n",
       "      <th>ALLERGY</th>\n",
       "      <th>WHEEZING</th>\n",
       "      <th>ALCOHOL CONSUMING</th>\n",
       "      <th>COUGHING</th>\n",
       "      <th>SHORTNESS OF BREATH</th>\n",
       "      <th>SWALLOWING DIFFICULTY</th>\n",
       "      <th>CHEST PAIN</th>\n",
       "    </tr>\n",
       "  </thead>\n",
       "  <tbody>\n",
       "    <tr>\n",
       "      <th>count</th>\n",
       "      <td>309.000000</td>\n",
       "      <td>309.000000</td>\n",
       "      <td>309.000000</td>\n",
       "      <td>309.000000</td>\n",
       "      <td>309.000000</td>\n",
       "      <td>309.000000</td>\n",
       "      <td>309.000000</td>\n",
       "      <td>309.000000</td>\n",
       "      <td>309.000000</td>\n",
       "      <td>309.000000</td>\n",
       "      <td>309.000000</td>\n",
       "      <td>309.000000</td>\n",
       "      <td>309.000000</td>\n",
       "      <td>309.000000</td>\n",
       "    </tr>\n",
       "    <tr>\n",
       "      <th>mean</th>\n",
       "      <td>62.673139</td>\n",
       "      <td>1.563107</td>\n",
       "      <td>1.569579</td>\n",
       "      <td>1.498382</td>\n",
       "      <td>1.501618</td>\n",
       "      <td>1.504854</td>\n",
       "      <td>1.673139</td>\n",
       "      <td>1.556634</td>\n",
       "      <td>1.556634</td>\n",
       "      <td>1.556634</td>\n",
       "      <td>1.579288</td>\n",
       "      <td>1.640777</td>\n",
       "      <td>1.469256</td>\n",
       "      <td>1.556634</td>\n",
       "    </tr>\n",
       "    <tr>\n",
       "      <th>std</th>\n",
       "      <td>8.210301</td>\n",
       "      <td>0.496806</td>\n",
       "      <td>0.495938</td>\n",
       "      <td>0.500808</td>\n",
       "      <td>0.500808</td>\n",
       "      <td>0.500787</td>\n",
       "      <td>0.469827</td>\n",
       "      <td>0.497588</td>\n",
       "      <td>0.497588</td>\n",
       "      <td>0.497588</td>\n",
       "      <td>0.494474</td>\n",
       "      <td>0.480551</td>\n",
       "      <td>0.499863</td>\n",
       "      <td>0.497588</td>\n",
       "    </tr>\n",
       "    <tr>\n",
       "      <th>min</th>\n",
       "      <td>21.000000</td>\n",
       "      <td>1.000000</td>\n",
       "      <td>1.000000</td>\n",
       "      <td>1.000000</td>\n",
       "      <td>1.000000</td>\n",
       "      <td>1.000000</td>\n",
       "      <td>1.000000</td>\n",
       "      <td>1.000000</td>\n",
       "      <td>1.000000</td>\n",
       "      <td>1.000000</td>\n",
       "      <td>1.000000</td>\n",
       "      <td>1.000000</td>\n",
       "      <td>1.000000</td>\n",
       "      <td>1.000000</td>\n",
       "    </tr>\n",
       "    <tr>\n",
       "      <th>25%</th>\n",
       "      <td>57.000000</td>\n",
       "      <td>1.000000</td>\n",
       "      <td>1.000000</td>\n",
       "      <td>1.000000</td>\n",
       "      <td>1.000000</td>\n",
       "      <td>1.000000</td>\n",
       "      <td>1.000000</td>\n",
       "      <td>1.000000</td>\n",
       "      <td>1.000000</td>\n",
       "      <td>1.000000</td>\n",
       "      <td>1.000000</td>\n",
       "      <td>1.000000</td>\n",
       "      <td>1.000000</td>\n",
       "      <td>1.000000</td>\n",
       "    </tr>\n",
       "    <tr>\n",
       "      <th>50%</th>\n",
       "      <td>62.000000</td>\n",
       "      <td>2.000000</td>\n",
       "      <td>2.000000</td>\n",
       "      <td>1.000000</td>\n",
       "      <td>2.000000</td>\n",
       "      <td>2.000000</td>\n",
       "      <td>2.000000</td>\n",
       "      <td>2.000000</td>\n",
       "      <td>2.000000</td>\n",
       "      <td>2.000000</td>\n",
       "      <td>2.000000</td>\n",
       "      <td>2.000000</td>\n",
       "      <td>1.000000</td>\n",
       "      <td>2.000000</td>\n",
       "    </tr>\n",
       "    <tr>\n",
       "      <th>75%</th>\n",
       "      <td>69.000000</td>\n",
       "      <td>2.000000</td>\n",
       "      <td>2.000000</td>\n",
       "      <td>2.000000</td>\n",
       "      <td>2.000000</td>\n",
       "      <td>2.000000</td>\n",
       "      <td>2.000000</td>\n",
       "      <td>2.000000</td>\n",
       "      <td>2.000000</td>\n",
       "      <td>2.000000</td>\n",
       "      <td>2.000000</td>\n",
       "      <td>2.000000</td>\n",
       "      <td>2.000000</td>\n",
       "      <td>2.000000</td>\n",
       "    </tr>\n",
       "    <tr>\n",
       "      <th>max</th>\n",
       "      <td>87.000000</td>\n",
       "      <td>2.000000</td>\n",
       "      <td>2.000000</td>\n",
       "      <td>2.000000</td>\n",
       "      <td>2.000000</td>\n",
       "      <td>2.000000</td>\n",
       "      <td>2.000000</td>\n",
       "      <td>2.000000</td>\n",
       "      <td>2.000000</td>\n",
       "      <td>2.000000</td>\n",
       "      <td>2.000000</td>\n",
       "      <td>2.000000</td>\n",
       "      <td>2.000000</td>\n",
       "      <td>2.000000</td>\n",
       "    </tr>\n",
       "  </tbody>\n",
       "</table>\n",
       "</div>"
      ],
      "text/plain": [
       "              AGE     SMOKING  YELLOW_FINGERS     ANXIETY  PEER_PRESSURE  \\\n",
       "count  309.000000  309.000000      309.000000  309.000000     309.000000   \n",
       "mean    62.673139    1.563107        1.569579    1.498382       1.501618   \n",
       "std      8.210301    0.496806        0.495938    0.500808       0.500808   \n",
       "min     21.000000    1.000000        1.000000    1.000000       1.000000   \n",
       "25%     57.000000    1.000000        1.000000    1.000000       1.000000   \n",
       "50%     62.000000    2.000000        2.000000    1.000000       2.000000   \n",
       "75%     69.000000    2.000000        2.000000    2.000000       2.000000   \n",
       "max     87.000000    2.000000        2.000000    2.000000       2.000000   \n",
       "\n",
       "       CHRONIC DISEASE    FATIGUE     ALLERGY     WHEEZING  ALCOHOL CONSUMING  \\\n",
       "count       309.000000  309.000000  309.000000  309.000000         309.000000   \n",
       "mean          1.504854    1.673139    1.556634    1.556634           1.556634   \n",
       "std           0.500787    0.469827    0.497588    0.497588           0.497588   \n",
       "min           1.000000    1.000000    1.000000    1.000000           1.000000   \n",
       "25%           1.000000    1.000000    1.000000    1.000000           1.000000   \n",
       "50%           2.000000    2.000000    2.000000    2.000000           2.000000   \n",
       "75%           2.000000    2.000000    2.000000    2.000000           2.000000   \n",
       "max           2.000000    2.000000    2.000000    2.000000           2.000000   \n",
       "\n",
       "         COUGHING  SHORTNESS OF BREATH  SWALLOWING DIFFICULTY  CHEST PAIN  \n",
       "count  309.000000           309.000000             309.000000  309.000000  \n",
       "mean     1.579288             1.640777               1.469256    1.556634  \n",
       "std      0.494474             0.480551               0.499863    0.497588  \n",
       "min      1.000000             1.000000               1.000000    1.000000  \n",
       "25%      1.000000             1.000000               1.000000    1.000000  \n",
       "50%      2.000000             2.000000               1.000000    2.000000  \n",
       "75%      2.000000             2.000000               2.000000    2.000000  \n",
       "max      2.000000             2.000000               2.000000    2.000000  "
      ]
     },
     "execution_count": 5,
     "metadata": {},
     "output_type": "execute_result"
    }
   ],
   "source": [
    "df.describe()"
   ]
  },
  {
   "cell_type": "code",
   "execution_count": 6,
   "id": "3f368077",
   "metadata": {
    "execution": {
     "iopub.execute_input": "2024-01-14T06:29:43.354306Z",
     "iopub.status.busy": "2024-01-14T06:29:43.353517Z",
     "iopub.status.idle": "2024-01-14T06:29:43.362278Z",
     "shell.execute_reply": "2024-01-14T06:29:43.361373Z"
    },
    "papermill": {
     "duration": 0.027766,
     "end_time": "2024-01-14T06:29:43.364535",
     "exception": false,
     "start_time": "2024-01-14T06:29:43.336769",
     "status": "completed"
    },
    "tags": []
   },
   "outputs": [
    {
     "data": {
      "text/plain": [
       "GENDER                   0\n",
       "AGE                      0\n",
       "SMOKING                  0\n",
       "YELLOW_FINGERS           0\n",
       "ANXIETY                  0\n",
       "PEER_PRESSURE            0\n",
       "CHRONIC DISEASE          0\n",
       "FATIGUE                  0\n",
       "ALLERGY                  0\n",
       "WHEEZING                 0\n",
       "ALCOHOL CONSUMING        0\n",
       "COUGHING                 0\n",
       "SHORTNESS OF BREATH      0\n",
       "SWALLOWING DIFFICULTY    0\n",
       "CHEST PAIN               0\n",
       "LUNG_CANCER              0\n",
       "dtype: int64"
      ]
     },
     "execution_count": 6,
     "metadata": {},
     "output_type": "execute_result"
    }
   ],
   "source": [
    "df.isnull().sum()"
   ]
  },
  {
   "cell_type": "code",
   "execution_count": 7,
   "id": "7a0be042",
   "metadata": {
    "execution": {
     "iopub.execute_input": "2024-01-14T06:29:43.401279Z",
     "iopub.status.busy": "2024-01-14T06:29:43.400842Z",
     "iopub.status.idle": "2024-01-14T06:29:43.413908Z",
     "shell.execute_reply": "2024-01-14T06:29:43.412170Z"
    },
    "papermill": {
     "duration": 0.035818,
     "end_time": "2024-01-14T06:29:43.417767",
     "exception": false,
     "start_time": "2024-01-14T06:29:43.381949",
     "status": "completed"
    },
    "tags": []
   },
   "outputs": [
    {
     "data": {
      "text/plain": [
       "33"
      ]
     },
     "execution_count": 7,
     "metadata": {},
     "output_type": "execute_result"
    }
   ],
   "source": [
    "df.duplicated().sum()"
   ]
  },
  {
   "cell_type": "code",
   "execution_count": 8,
   "id": "b08727ac",
   "metadata": {
    "execution": {
     "iopub.execute_input": "2024-01-14T06:29:43.453133Z",
     "iopub.status.busy": "2024-01-14T06:29:43.452688Z",
     "iopub.status.idle": "2024-01-14T06:29:43.463546Z",
     "shell.execute_reply": "2024-01-14T06:29:43.462137Z"
    },
    "papermill": {
     "duration": 0.032596,
     "end_time": "2024-01-14T06:29:43.466165",
     "exception": false,
     "start_time": "2024-01-14T06:29:43.433569",
     "status": "completed"
    },
    "tags": []
   },
   "outputs": [],
   "source": [
    "df.drop_duplicates(inplace=True)"
   ]
  },
  {
   "cell_type": "code",
   "execution_count": 9,
   "id": "d299333a",
   "metadata": {
    "execution": {
     "iopub.execute_input": "2024-01-14T06:29:43.500216Z",
     "iopub.status.busy": "2024-01-14T06:29:43.499753Z",
     "iopub.status.idle": "2024-01-14T06:29:43.511884Z",
     "shell.execute_reply": "2024-01-14T06:29:43.510459Z"
    },
    "papermill": {
     "duration": 0.032566,
     "end_time": "2024-01-14T06:29:43.514496",
     "exception": false,
     "start_time": "2024-01-14T06:29:43.481930",
     "status": "completed"
    },
    "tags": []
   },
   "outputs": [
    {
     "data": {
      "text/plain": [
       "0"
      ]
     },
     "execution_count": 9,
     "metadata": {},
     "output_type": "execute_result"
    }
   ],
   "source": [
    "df.duplicated().sum()"
   ]
  },
  {
   "cell_type": "markdown",
   "id": "66735d1c",
   "metadata": {
    "papermill": {
     "duration": 0.082079,
     "end_time": "2024-01-14T06:29:43.612083",
     "exception": false,
     "start_time": "2024-01-14T06:29:43.530004",
     "status": "completed"
    },
    "tags": []
   },
   "source": [
    "# EDA"
   ]
  },
  {
   "cell_type": "code",
   "execution_count": 10,
   "id": "c053dbf2",
   "metadata": {
    "execution": {
     "iopub.execute_input": "2024-01-14T06:29:43.647267Z",
     "iopub.status.busy": "2024-01-14T06:29:43.646758Z",
     "iopub.status.idle": "2024-01-14T06:29:43.669987Z",
     "shell.execute_reply": "2024-01-14T06:29:43.668730Z"
    },
    "papermill": {
     "duration": 0.045318,
     "end_time": "2024-01-14T06:29:43.673110",
     "exception": false,
     "start_time": "2024-01-14T06:29:43.627792",
     "status": "completed"
    },
    "tags": []
   },
   "outputs": [
    {
     "data": {
      "text/html": [
       "<div>\n",
       "<style scoped>\n",
       "    .dataframe tbody tr th:only-of-type {\n",
       "        vertical-align: middle;\n",
       "    }\n",
       "\n",
       "    .dataframe tbody tr th {\n",
       "        vertical-align: top;\n",
       "    }\n",
       "\n",
       "    .dataframe thead th {\n",
       "        text-align: right;\n",
       "    }\n",
       "</style>\n",
       "<table border=\"1\" class=\"dataframe\">\n",
       "  <thead>\n",
       "    <tr style=\"text-align: right;\">\n",
       "      <th></th>\n",
       "      <th>GENDER</th>\n",
       "      <th>AGE</th>\n",
       "      <th>SMOKING</th>\n",
       "      <th>YELLOW_FINGERS</th>\n",
       "      <th>ANXIETY</th>\n",
       "      <th>PEER_PRESSURE</th>\n",
       "      <th>CHRONIC DISEASE</th>\n",
       "      <th>FATIGUE</th>\n",
       "      <th>ALLERGY</th>\n",
       "      <th>WHEEZING</th>\n",
       "      <th>ALCOHOL CONSUMING</th>\n",
       "      <th>COUGHING</th>\n",
       "      <th>SHORTNESS OF BREATH</th>\n",
       "      <th>SWALLOWING DIFFICULTY</th>\n",
       "      <th>CHEST PAIN</th>\n",
       "      <th>LUNG_CANCER</th>\n",
       "    </tr>\n",
       "  </thead>\n",
       "  <tbody>\n",
       "    <tr>\n",
       "      <th>0</th>\n",
       "      <td>1</td>\n",
       "      <td>69</td>\n",
       "      <td>1</td>\n",
       "      <td>2</td>\n",
       "      <td>2</td>\n",
       "      <td>1</td>\n",
       "      <td>1</td>\n",
       "      <td>2</td>\n",
       "      <td>1</td>\n",
       "      <td>2</td>\n",
       "      <td>2</td>\n",
       "      <td>2</td>\n",
       "      <td>2</td>\n",
       "      <td>2</td>\n",
       "      <td>2</td>\n",
       "      <td>YES</td>\n",
       "    </tr>\n",
       "    <tr>\n",
       "      <th>1</th>\n",
       "      <td>1</td>\n",
       "      <td>74</td>\n",
       "      <td>2</td>\n",
       "      <td>1</td>\n",
       "      <td>1</td>\n",
       "      <td>1</td>\n",
       "      <td>2</td>\n",
       "      <td>2</td>\n",
       "      <td>2</td>\n",
       "      <td>1</td>\n",
       "      <td>1</td>\n",
       "      <td>1</td>\n",
       "      <td>2</td>\n",
       "      <td>2</td>\n",
       "      <td>2</td>\n",
       "      <td>YES</td>\n",
       "    </tr>\n",
       "    <tr>\n",
       "      <th>2</th>\n",
       "      <td>0</td>\n",
       "      <td>59</td>\n",
       "      <td>1</td>\n",
       "      <td>1</td>\n",
       "      <td>1</td>\n",
       "      <td>2</td>\n",
       "      <td>1</td>\n",
       "      <td>2</td>\n",
       "      <td>1</td>\n",
       "      <td>2</td>\n",
       "      <td>1</td>\n",
       "      <td>2</td>\n",
       "      <td>2</td>\n",
       "      <td>1</td>\n",
       "      <td>2</td>\n",
       "      <td>NO</td>\n",
       "    </tr>\n",
       "    <tr>\n",
       "      <th>3</th>\n",
       "      <td>1</td>\n",
       "      <td>63</td>\n",
       "      <td>2</td>\n",
       "      <td>2</td>\n",
       "      <td>2</td>\n",
       "      <td>1</td>\n",
       "      <td>1</td>\n",
       "      <td>1</td>\n",
       "      <td>1</td>\n",
       "      <td>1</td>\n",
       "      <td>2</td>\n",
       "      <td>1</td>\n",
       "      <td>1</td>\n",
       "      <td>2</td>\n",
       "      <td>2</td>\n",
       "      <td>NO</td>\n",
       "    </tr>\n",
       "    <tr>\n",
       "      <th>4</th>\n",
       "      <td>0</td>\n",
       "      <td>63</td>\n",
       "      <td>1</td>\n",
       "      <td>2</td>\n",
       "      <td>1</td>\n",
       "      <td>1</td>\n",
       "      <td>1</td>\n",
       "      <td>1</td>\n",
       "      <td>1</td>\n",
       "      <td>2</td>\n",
       "      <td>1</td>\n",
       "      <td>2</td>\n",
       "      <td>2</td>\n",
       "      <td>1</td>\n",
       "      <td>1</td>\n",
       "      <td>NO</td>\n",
       "    </tr>\n",
       "  </tbody>\n",
       "</table>\n",
       "</div>"
      ],
      "text/plain": [
       "   GENDER  AGE  SMOKING  YELLOW_FINGERS  ANXIETY  PEER_PRESSURE  \\\n",
       "0       1   69        1               2        2              1   \n",
       "1       1   74        2               1        1              1   \n",
       "2       0   59        1               1        1              2   \n",
       "3       1   63        2               2        2              1   \n",
       "4       0   63        1               2        1              1   \n",
       "\n",
       "   CHRONIC DISEASE  FATIGUE   ALLERGY   WHEEZING  ALCOHOL CONSUMING  COUGHING  \\\n",
       "0                1         2         1         2                  2         2   \n",
       "1                2         2         2         1                  1         1   \n",
       "2                1         2         1         2                  1         2   \n",
       "3                1         1         1         1                  2         1   \n",
       "4                1         1         1         2                  1         2   \n",
       "\n",
       "   SHORTNESS OF BREATH  SWALLOWING DIFFICULTY  CHEST PAIN LUNG_CANCER  \n",
       "0                    2                      2           2         YES  \n",
       "1                    2                      2           2         YES  \n",
       "2                    2                      1           2          NO  \n",
       "3                    1                      2           2          NO  \n",
       "4                    2                      1           1          NO  "
      ]
     },
     "execution_count": 10,
     "metadata": {},
     "output_type": "execute_result"
    }
   ],
   "source": [
    "df['GENDER'] = df['GENDER'].map({'M': 1, 'F': 0}).astype(int)\n",
    "df.head()"
   ]
  },
  {
   "cell_type": "code",
   "execution_count": 11,
   "id": "9b6619f6",
   "metadata": {
    "execution": {
     "iopub.execute_input": "2024-01-14T06:29:43.709840Z",
     "iopub.status.busy": "2024-01-14T06:29:43.709259Z",
     "iopub.status.idle": "2024-01-14T06:29:43.730918Z",
     "shell.execute_reply": "2024-01-14T06:29:43.729151Z"
    },
    "papermill": {
     "duration": 0.04316,
     "end_time": "2024-01-14T06:29:43.733489",
     "exception": false,
     "start_time": "2024-01-14T06:29:43.690329",
     "status": "completed"
    },
    "tags": []
   },
   "outputs": [
    {
     "data": {
      "text/html": [
       "<div>\n",
       "<style scoped>\n",
       "    .dataframe tbody tr th:only-of-type {\n",
       "        vertical-align: middle;\n",
       "    }\n",
       "\n",
       "    .dataframe tbody tr th {\n",
       "        vertical-align: top;\n",
       "    }\n",
       "\n",
       "    .dataframe thead th {\n",
       "        text-align: right;\n",
       "    }\n",
       "</style>\n",
       "<table border=\"1\" class=\"dataframe\">\n",
       "  <thead>\n",
       "    <tr style=\"text-align: right;\">\n",
       "      <th></th>\n",
       "      <th>GENDER</th>\n",
       "      <th>AGE</th>\n",
       "      <th>SMOKING</th>\n",
       "      <th>YELLOW_FINGERS</th>\n",
       "      <th>ANXIETY</th>\n",
       "      <th>PEER_PRESSURE</th>\n",
       "      <th>CHRONIC DISEASE</th>\n",
       "      <th>FATIGUE</th>\n",
       "      <th>ALLERGY</th>\n",
       "      <th>WHEEZING</th>\n",
       "      <th>ALCOHOL CONSUMING</th>\n",
       "      <th>COUGHING</th>\n",
       "      <th>SHORTNESS OF BREATH</th>\n",
       "      <th>SWALLOWING DIFFICULTY</th>\n",
       "      <th>CHEST PAIN</th>\n",
       "      <th>LUNG_CANCER</th>\n",
       "    </tr>\n",
       "  </thead>\n",
       "  <tbody>\n",
       "    <tr>\n",
       "      <th>0</th>\n",
       "      <td>1</td>\n",
       "      <td>69</td>\n",
       "      <td>1</td>\n",
       "      <td>2</td>\n",
       "      <td>2</td>\n",
       "      <td>1</td>\n",
       "      <td>1</td>\n",
       "      <td>2</td>\n",
       "      <td>1</td>\n",
       "      <td>2</td>\n",
       "      <td>2</td>\n",
       "      <td>2</td>\n",
       "      <td>2</td>\n",
       "      <td>2</td>\n",
       "      <td>2</td>\n",
       "      <td>1</td>\n",
       "    </tr>\n",
       "    <tr>\n",
       "      <th>1</th>\n",
       "      <td>1</td>\n",
       "      <td>74</td>\n",
       "      <td>2</td>\n",
       "      <td>1</td>\n",
       "      <td>1</td>\n",
       "      <td>1</td>\n",
       "      <td>2</td>\n",
       "      <td>2</td>\n",
       "      <td>2</td>\n",
       "      <td>1</td>\n",
       "      <td>1</td>\n",
       "      <td>1</td>\n",
       "      <td>2</td>\n",
       "      <td>2</td>\n",
       "      <td>2</td>\n",
       "      <td>1</td>\n",
       "    </tr>\n",
       "    <tr>\n",
       "      <th>2</th>\n",
       "      <td>0</td>\n",
       "      <td>59</td>\n",
       "      <td>1</td>\n",
       "      <td>1</td>\n",
       "      <td>1</td>\n",
       "      <td>2</td>\n",
       "      <td>1</td>\n",
       "      <td>2</td>\n",
       "      <td>1</td>\n",
       "      <td>2</td>\n",
       "      <td>1</td>\n",
       "      <td>2</td>\n",
       "      <td>2</td>\n",
       "      <td>1</td>\n",
       "      <td>2</td>\n",
       "      <td>0</td>\n",
       "    </tr>\n",
       "    <tr>\n",
       "      <th>3</th>\n",
       "      <td>1</td>\n",
       "      <td>63</td>\n",
       "      <td>2</td>\n",
       "      <td>2</td>\n",
       "      <td>2</td>\n",
       "      <td>1</td>\n",
       "      <td>1</td>\n",
       "      <td>1</td>\n",
       "      <td>1</td>\n",
       "      <td>1</td>\n",
       "      <td>2</td>\n",
       "      <td>1</td>\n",
       "      <td>1</td>\n",
       "      <td>2</td>\n",
       "      <td>2</td>\n",
       "      <td>0</td>\n",
       "    </tr>\n",
       "    <tr>\n",
       "      <th>4</th>\n",
       "      <td>0</td>\n",
       "      <td>63</td>\n",
       "      <td>1</td>\n",
       "      <td>2</td>\n",
       "      <td>1</td>\n",
       "      <td>1</td>\n",
       "      <td>1</td>\n",
       "      <td>1</td>\n",
       "      <td>1</td>\n",
       "      <td>2</td>\n",
       "      <td>1</td>\n",
       "      <td>2</td>\n",
       "      <td>2</td>\n",
       "      <td>1</td>\n",
       "      <td>1</td>\n",
       "      <td>0</td>\n",
       "    </tr>\n",
       "  </tbody>\n",
       "</table>\n",
       "</div>"
      ],
      "text/plain": [
       "   GENDER  AGE  SMOKING  YELLOW_FINGERS  ANXIETY  PEER_PRESSURE  \\\n",
       "0       1   69        1               2        2              1   \n",
       "1       1   74        2               1        1              1   \n",
       "2       0   59        1               1        1              2   \n",
       "3       1   63        2               2        2              1   \n",
       "4       0   63        1               2        1              1   \n",
       "\n",
       "   CHRONIC DISEASE  FATIGUE   ALLERGY   WHEEZING  ALCOHOL CONSUMING  COUGHING  \\\n",
       "0                1         2         1         2                  2         2   \n",
       "1                2         2         2         1                  1         1   \n",
       "2                1         2         1         2                  1         2   \n",
       "3                1         1         1         1                  2         1   \n",
       "4                1         1         1         2                  1         2   \n",
       "\n",
       "   SHORTNESS OF BREATH  SWALLOWING DIFFICULTY  CHEST PAIN  LUNG_CANCER  \n",
       "0                    2                      2           2            1  \n",
       "1                    2                      2           2            1  \n",
       "2                    2                      1           2            0  \n",
       "3                    1                      2           2            0  \n",
       "4                    2                      1           1            0  "
      ]
     },
     "execution_count": 11,
     "metadata": {},
     "output_type": "execute_result"
    }
   ],
   "source": [
    "df['LUNG_CANCER'] = df['LUNG_CANCER'].map({'YES': 1, 'NO': 0}).astype(int)\n",
    "df.head()"
   ]
  },
  {
   "cell_type": "code",
   "execution_count": 12,
   "id": "69ca47f5",
   "metadata": {
    "execution": {
     "iopub.execute_input": "2024-01-14T06:29:43.768376Z",
     "iopub.status.busy": "2024-01-14T06:29:43.767949Z",
     "iopub.status.idle": "2024-01-14T06:29:44.114849Z",
     "shell.execute_reply": "2024-01-14T06:29:44.113466Z"
    },
    "papermill": {
     "duration": 0.367353,
     "end_time": "2024-01-14T06:29:44.117492",
     "exception": false,
     "start_time": "2024-01-14T06:29:43.750139",
     "status": "completed"
    },
    "tags": []
   },
   "outputs": [
    {
     "data": {
      "text/plain": [
       "<Axes: xlabel='GENDER', ylabel='LUNG_CANCER'>"
      ]
     },
     "execution_count": 12,
     "metadata": {},
     "output_type": "execute_result"
    },
    {
     "data": {
      "image/png": "[encoded data removed]",
      "text/plain": [
       "<Figure size 640x480 with 1 Axes>"
      ]
     },
     "metadata": {},
     "output_type": "display_data"
    }
   ],
   "source": [
    "sns.barplot(x=df.GENDER,y=df.LUNG_CANCER)"
   ]
  },
  {
   "cell_type": "code",
   "execution_count": 13,
   "id": "4d5923bb",
   "metadata": {
    "execution": {
     "iopub.execute_input": "2024-01-14T06:29:44.153933Z",
     "iopub.status.busy": "2024-01-14T06:29:44.153494Z",
     "iopub.status.idle": "2024-01-14T06:29:44.811705Z",
     "shell.execute_reply": "2024-01-14T06:29:44.810473Z"
    },
    "papermill": {
     "duration": 0.680057,
     "end_time": "2024-01-14T06:29:44.814197",
     "exception": false,
     "start_time": "2024-01-14T06:29:44.134140",
     "status": "completed"
    },
    "tags": []
   },
   "outputs": [
    {
     "data": {
      "text/plain": [
       "<Axes: >"
      ]
     },
     "execution_count": 13,
     "metadata": {},
     "output_type": "execute_result"
    },
    {
     "data": {
      "image/png": "[encoded data removed]",
      "text/plain": [
       "<Figure size 640x480 with 2 Axes>"
      ]
     },
     "metadata": {},
     "output_type": "display_data"
    }
   ],
   "source": [
    "corr_matrix=df.corr()\n",
    "sns.heatmap(corr_matrix)"
   ]
  },
  {
   "cell_type": "code",
   "execution_count": 14,
   "id": "828f8b29",
   "metadata": {
    "execution": {
     "iopub.execute_input": "2024-01-14T06:29:44.855073Z",
     "iopub.status.busy": "2024-01-14T06:29:44.853931Z",
     "iopub.status.idle": "2024-01-14T06:29:45.168705Z",
     "shell.execute_reply": "2024-01-14T06:29:45.167528Z"
    },
    "papermill": {
     "duration": 0.338409,
     "end_time": "2024-01-14T06:29:45.171565",
     "exception": false,
     "start_time": "2024-01-14T06:29:44.833156",
     "status": "completed"
    },
    "tags": []
   },
   "outputs": [
    {
     "data": {
      "text/plain": [
       "<Axes: xlabel='SMOKING', ylabel='LUNG_CANCER'>"
      ]
     },
     "execution_count": 14,
     "metadata": {},
     "output_type": "execute_result"
    },
    {
     "data": {
      "image/png": "[encoded data removed]",
      "text/plain": [
       "<Figure size 640x480 with 1 Axes>"
      ]
     },
     "metadata": {},
     "output_type": "display_data"
    }
   ],
   "source": [
    "sns.barplot(x=df.SMOKING,y=df.LUNG_CANCER)"
   ]
  },
  {
   "cell_type": "code",
   "execution_count": 15,
   "id": "c79fc05e",
   "metadata": {
    "execution": {
     "iopub.execute_input": "2024-01-14T06:29:45.215184Z",
     "iopub.status.busy": "2024-01-14T06:29:45.214781Z",
     "iopub.status.idle": "2024-01-14T06:29:45.227624Z",
     "shell.execute_reply": "2024-01-14T06:29:45.226709Z"
    },
    "papermill": {
     "duration": 0.039441,
     "end_time": "2024-01-14T06:29:45.230725",
     "exception": false,
     "start_time": "2024-01-14T06:29:45.191284",
     "status": "completed"
    },
    "tags": []
   },
   "outputs": [
    {
     "data": {
      "text/plain": [
       "LUNG_CANCER\n",
       "0    60.684211\n",
       "1    63.264706\n",
       "Name: AGE, dtype: float64"
      ]
     },
     "execution_count": 15,
     "metadata": {},
     "output_type": "execute_result"
    }
   ],
   "source": [
    "df.groupby('LUNG_CANCER')['AGE'].mean()"
   ]
  },
  {
   "cell_type": "markdown",
   "id": "9584415d",
   "metadata": {
    "papermill": {
     "duration": 0.018901,
     "end_time": "2024-01-14T06:29:45.268402",
     "exception": false,
     "start_time": "2024-01-14T06:29:45.249501",
     "status": "completed"
    },
    "tags": []
   },
   "source": [
    "# split  the data "
   ]
  },
  {
   "cell_type": "code",
   "execution_count": 16,
   "id": "9caf5e76",
   "metadata": {
    "execution": {
     "iopub.execute_input": "2024-01-14T06:29:45.309244Z",
     "iopub.status.busy": "2024-01-14T06:29:45.308478Z",
     "iopub.status.idle": "2024-01-14T06:29:45.314288Z",
     "shell.execute_reply": "2024-01-14T06:29:45.313399Z"
    },
    "papermill": {
     "duration": 0.028669,
     "end_time": "2024-01-14T06:29:45.316823",
     "exception": false,
     "start_time": "2024-01-14T06:29:45.288154",
     "status": "completed"
    },
    "tags": []
   },
   "outputs": [],
   "source": [
    "X=df.drop(columns='LUNG_CANCER')\n",
    "y=df['LUNG_CANCER'].values"
   ]
  },
  {
   "cell_type": "code",
   "execution_count": 17,
   "id": "7b3516a8",
   "metadata": {
    "execution": {
     "iopub.execute_input": "2024-01-14T06:29:45.358444Z",
     "iopub.status.busy": "2024-01-14T06:29:45.357743Z",
     "iopub.status.idle": "2024-01-14T06:29:45.364938Z",
     "shell.execute_reply": "2024-01-14T06:29:45.363982Z"
    },
    "papermill": {
     "duration": 0.031388,
     "end_time": "2024-01-14T06:29:45.367501",
     "exception": false,
     "start_time": "2024-01-14T06:29:45.336113",
     "status": "completed"
    },
    "tags": []
   },
   "outputs": [],
   "source": [
    "X_train,X_test,y_train,y_test=train_test_split(X,y,test_size=0.2,random_state=10)"
   ]
  },
  {
   "cell_type": "code",
   "execution_count": 18,
   "id": "6aaeebe0",
   "metadata": {
    "execution": {
     "iopub.execute_input": "2024-01-14T06:29:45.408725Z",
     "iopub.status.busy": "2024-01-14T06:29:45.407983Z",
     "iopub.status.idle": "2024-01-14T06:29:45.415111Z",
     "shell.execute_reply": "2024-01-14T06:29:45.413740Z"
    },
    "papermill": {
     "duration": 0.030029,
     "end_time": "2024-01-14T06:29:45.417585",
     "exception": false,
     "start_time": "2024-01-14T06:29:45.387556",
     "status": "completed"
    },
    "tags": []
   },
   "outputs": [
    {
     "name": "stdout",
     "output_type": "stream",
     "text": [
      "(220, 15)\n",
      "(56, 15)\n",
      "(220,)\n",
      "(56,)\n"
     ]
    }
   ],
   "source": [
    "print(X_train.shape)\n",
    "print(X_test.shape)\n",
    "print(y_train.shape)\n",
    "print(y_test.shape)"
   ]
  },
  {
   "cell_type": "markdown",
   "id": "478bdf16",
   "metadata": {
    "papermill": {
     "duration": 0.018778,
     "end_time": "2024-01-14T06:29:45.456009",
     "exception": false,
     "start_time": "2024-01-14T06:29:45.437231",
     "status": "completed"
    },
    "tags": []
   },
   "source": [
    "# train different models"
   ]
  },
  {
   "cell_type": "code",
   "execution_count": 19,
   "id": "c8bdf61d",
   "metadata": {
    "execution": {
     "iopub.execute_input": "2024-01-14T06:29:45.498591Z",
     "iopub.status.busy": "2024-01-14T06:29:45.497413Z",
     "iopub.status.idle": "2024-01-14T06:29:45.518739Z",
     "shell.execute_reply": "2024-01-14T06:29:45.517516Z"
    },
    "papermill": {
     "duration": 0.045124,
     "end_time": "2024-01-14T06:29:45.521131",
     "exception": false,
     "start_time": "2024-01-14T06:29:45.476007",
     "status": "completed"
    },
    "tags": []
   },
   "outputs": [
    {
     "data": {
      "text/plain": [
       "0.7733333333333334"
      ]
     },
     "execution_count": 19,
     "metadata": {},
     "output_type": "execute_result"
    }
   ],
   "source": [
    "model1=DecisionTreeClassifier()\n",
    "model1.fit(X_train,y_train)\n",
    "y_pred1=model1.predict_proba(X_test)[:,1]\n",
    "AUC=roc_auc_score(y_test,y_pred1)\n",
    "AUC"
   ]
  },
  {
   "cell_type": "code",
   "execution_count": 20,
   "id": "2af98bfa",
   "metadata": {
    "execution": {
     "iopub.execute_input": "2024-01-14T06:29:45.563278Z",
     "iopub.status.busy": "2024-01-14T06:29:45.561690Z",
     "iopub.status.idle": "2024-01-14T06:29:45.820081Z",
     "shell.execute_reply": "2024-01-14T06:29:45.818655Z"
    },
    "papermill": {
     "duration": 0.282661,
     "end_time": "2024-01-14T06:29:45.824008",
     "exception": false,
     "start_time": "2024-01-14T06:29:45.541347",
     "status": "completed"
    },
    "tags": []
   },
   "outputs": [
    {
     "data": {
      "text/plain": [
       "0.9600000000000001"
      ]
     },
     "execution_count": 20,
     "metadata": {},
     "output_type": "execute_result"
    }
   ],
   "source": [
    "mode2=RandomForestClassifier()\n",
    "mode2.fit(X_train,y_train)\n",
    "y_pred2=mode2.predict_proba(X_test)[:,1]\n",
    "AUC=roc_auc_score(y_test,y_pred2)\n",
    "AUC"
   ]
  },
  {
   "cell_type": "code",
   "execution_count": 21,
   "id": "0ca7435a",
   "metadata": {
    "execution": {
     "iopub.execute_input": "2024-01-14T06:29:45.868414Z",
     "iopub.status.busy": "2024-01-14T06:29:45.867211Z",
     "iopub.status.idle": "2024-01-14T06:29:45.926479Z",
     "shell.execute_reply": "2024-01-14T06:29:45.924730Z"
    },
    "papermill": {
     "duration": 0.086073,
     "end_time": "2024-01-14T06:29:45.931116",
     "exception": false,
     "start_time": "2024-01-14T06:29:45.845043",
     "status": "completed"
    },
    "tags": []
   },
   "outputs": [
    {
     "name": "stderr",
     "output_type": "stream",
     "text": [
      "/opt/conda/lib/python3.10/site-packages/sklearn/linear_model/_logistic.py:458: ConvergenceWarning: lbfgs failed to converge (status=1):\n",
      "STOP: TOTAL NO. of ITERATIONS REACHED LIMIT.\n",
      "\n",
      "Increase the number of iterations (max_iter) or scale the data as shown in:\n",
      "    https://scikit-learn.org/stable/modules/preprocessing.html\n",
      "Please also refer to the documentation for alternative solver options:\n",
      "    https://scikit-learn.org/stable/modules/linear_model.html#logistic-regression\n",
      "  n_iter_i = _check_optimize_result(\n"
     ]
    },
    {
     "data": {
      "text/plain": [
       "0.9933333333333334"
      ]
     },
     "execution_count": 21,
     "metadata": {},
     "output_type": "execute_result"
    }
   ],
   "source": [
    "model3=LogisticRegression()\n",
    "model3.fit(X_train,y_train)\n",
    "y_pred3=model3.predict_proba(X_test)[:,1]\n",
    "AUC=roc_auc_score(y_test,y_pred3)\n",
    "AUC"
   ]
  },
  {
   "cell_type": "code",
   "execution_count": 22,
   "id": "213ae0b0",
   "metadata": {
    "execution": {
     "iopub.execute_input": "2024-01-14T06:29:45.985890Z",
     "iopub.status.busy": "2024-01-14T06:29:45.985271Z",
     "iopub.status.idle": "2024-01-14T06:29:46.128761Z",
     "shell.execute_reply": "2024-01-14T06:29:46.127691Z"
    },
    "papermill": {
     "duration": 0.17235,
     "end_time": "2024-01-14T06:29:46.131705",
     "exception": false,
     "start_time": "2024-01-14T06:29:45.959355",
     "status": "completed"
    },
    "tags": []
   },
   "outputs": [
    {
     "data": {
      "text/plain": [
       "0.96"
      ]
     },
     "execution_count": 22,
     "metadata": {},
     "output_type": "execute_result"
    }
   ],
   "source": [
    "model4=xgb.XGBClassifier()\n",
    "model4.fit(X_train,y_train)\n",
    "y_pred4=model4.predict_proba(X_test)[:,1]\n",
    "AUC=roc_auc_score(y_test,y_pred4)\n",
    "AUC"
   ]
  },
  {
   "cell_type": "markdown",
   "id": "7a68479f",
   "metadata": {
    "papermill": {
     "duration": 0.021433,
     "end_time": "2024-01-14T06:29:46.173445",
     "exception": false,
     "start_time": "2024-01-14T06:29:46.152012",
     "status": "completed"
    },
    "tags": []
   },
   "source": [
    "# plot false postive rate VS True postive rate for all models"
   ]
  },
  {
   "cell_type": "code",
   "execution_count": 23,
   "id": "08b8c0e7",
   "metadata": {
    "execution": {
     "iopub.execute_input": "2024-01-14T06:29:46.218221Z",
     "iopub.status.busy": "2024-01-14T06:29:46.217690Z",
     "iopub.status.idle": "2024-01-14T06:29:46.536784Z",
     "shell.execute_reply": "2024-01-14T06:29:46.535063Z"
    },
    "papermill": {
     "duration": 0.3455,
     "end_time": "2024-01-14T06:29:46.540631",
     "exception": false,
     "start_time": "2024-01-14T06:29:46.195131",
     "status": "completed"
    },
    "tags": []
   },
   "outputs": [
    {
     "data": {
      "image/png": "[encoded data removed]",
      "text/plain": [
       "<Figure size 640x480 with 1 Axes>"
      ]
     },
     "metadata": {},
     "output_type": "display_data"
    }
   ],
   "source": [
    "fpr,tpr,threashouds=roc_curve(y_test,y_pred1)\n",
    "plt.plot(fpr, tpr, label='ROC curve')\n",
    "plt.plot([0, 1], [0, 1], 'k--')  # Random guessing line\n",
    "plt.xlabel('False Positive Rate (FPR)')\n",
    "plt.ylabel('True Positive Rate (TPR)')\n",
    "plt.title('Receiver Operating Characteristic (ROC) DecisionTree ')\n",
    "plt.legend(loc='lower right')\n",
    "plt.show()"
   ]
  },
  {
   "cell_type": "code",
   "execution_count": 24,
   "id": "70f52e7e",
   "metadata": {
    "execution": {
     "iopub.execute_input": "2024-01-14T06:29:46.585450Z",
     "iopub.status.busy": "2024-01-14T06:29:46.585007Z",
     "iopub.status.idle": "2024-01-14T06:29:46.929929Z",
     "shell.execute_reply": "2024-01-14T06:29:46.928681Z"
    },
    "papermill": {
     "duration": 0.370632,
     "end_time": "2024-01-14T06:29:46.933157",
     "exception": false,
     "start_time": "2024-01-14T06:29:46.562525",
     "status": "completed"
    },
    "tags": []
   },
   "outputs": [
    {
     "data": {
      "image/png": "[encoded data removed]",
      "text/plain": [
       "<Figure size 640x480 with 1 Axes>"
      ]
     },
     "metadata": {},
     "output_type": "display_data"
    }
   ],
   "source": [
    "fpr,tpr,threashouds=roc_curve(y_test,y_pred2)\n",
    "plt.plot(fpr, tpr, label='ROC curve')\n",
    "plt.plot([0, 1], [0, 1], 'k--')  # Random guessing line\n",
    "plt.xlabel('False Positive Rate (FPR)')\n",
    "plt.ylabel('True Positive Rate (TPR)')\n",
    "plt.title('Receiver Operating Characteristic (ROC) Random forest ')\n",
    "plt.legend(loc='lower right')\n",
    "plt.show()"
   ]
  },
  {
   "cell_type": "code",
   "execution_count": 25,
   "id": "e51d7a04",
   "metadata": {
    "execution": {
     "iopub.execute_input": "2024-01-14T06:29:46.978766Z",
     "iopub.status.busy": "2024-01-14T06:29:46.978309Z",
     "iopub.status.idle": "2024-01-14T06:29:47.308741Z",
     "shell.execute_reply": "2024-01-14T06:29:47.307489Z"
    },
    "papermill": {
     "duration": 0.355623,
     "end_time": "2024-01-14T06:29:47.311441",
     "exception": false,
     "start_time": "2024-01-14T06:29:46.955818",
     "status": "completed"
    },
    "tags": []
   },
   "outputs": [
    {
     "data": {
      "image/png": "[encoded data removed]",
      "text/plain": [
       "<Figure size 640x480 with 1 Axes>"
      ]
     },
     "metadata": {},
     "output_type": "display_data"
    }
   ],
   "source": [
    "fpr,tpr,threashouds=roc_curve(y_test,y_pred3)\n",
    "plt.plot(fpr, tpr, label='ROC curve')\n",
    "plt.plot([0, 1], [0, 1], 'k--')  # Random guessing line\n",
    "plt.xlabel('False Positive Rate (FPR)')\n",
    "plt.ylabel('True Positive Rate (TPR)')\n",
    "plt.title('Receiver Operating Characteristic (ROC)  logestic regression ')\n",
    "plt.legend(loc='lower right')\n",
    "plt.show()"
   ]
  },
  {
   "cell_type": "code",
   "execution_count": 26,
   "id": "14bd7b56",
   "metadata": {
    "execution": {
     "iopub.execute_input": "2024-01-14T06:29:47.359355Z",
     "iopub.status.busy": "2024-01-14T06:29:47.358921Z",
     "iopub.status.idle": "2024-01-14T06:29:47.682672Z",
     "shell.execute_reply": "2024-01-14T06:29:47.681246Z"
    },
    "papermill": {
     "duration": 0.351386,
     "end_time": "2024-01-14T06:29:47.685139",
     "exception": false,
     "start_time": "2024-01-14T06:29:47.333753",
     "status": "completed"
    },
    "tags": []
   },
   "outputs": [
    {
     "data": {
      "image/png": "[encoded data removed]",
      "text/plain": [
       "<Figure size 640x480 with 1 Axes>"
      ]
     },
     "metadata": {},
     "output_type": "display_data"
    }
   ],
   "source": [
    "fpr,tpr,threashouds=roc_curve(y_test,y_pred4)\n",
    "plt.plot(fpr, tpr, label='ROC curve')\n",
    "plt.plot([0, 1], [0, 1], 'k--')  # Random guessing line\n",
    "plt.xlabel('False Positive Rate (FPR)')\n",
    "plt.ylabel('True Positive Rate (TPR)')\n",
    "plt.title('Receiver Operating Characteristic (ROC) xgboost')\n",
    "plt.legend(loc='lower right')\n",
    "plt.show()"
   ]
  },
  {
   "cell_type": "code",
   "execution_count": 27,
   "id": "15d79ff4",
   "metadata": {
    "execution": {
     "iopub.execute_input": "2024-01-14T06:29:47.731967Z",
     "iopub.status.busy": "2024-01-14T06:29:47.731508Z",
     "iopub.status.idle": "2024-01-14T06:29:51.290213Z",
     "shell.execute_reply": "2024-01-14T06:29:51.289289Z"
    },
    "papermill": {
     "duration": 3.585446,
     "end_time": "2024-01-14T06:29:51.292883",
     "exception": false,
     "start_time": "2024-01-14T06:29:47.707437",
     "status": "completed"
    },
    "tags": []
   },
   "outputs": [],
   "source": [
    "\n",
    "max_depth=[2,4,6,8,10,15,20,25,30,35,40,45,50,100,150]\n",
    "score=[]\n",
    "for d in max_depth:\n",
    "      model=RandomForestClassifier(max_depth=d)\n",
    "      model.fit(X_train,y_train)\n",
    "      y_pred=model.predict_proba(X_test)[:,1]\n",
    "      AUC=roc_auc_score(y_test,y_pred)\n",
    "      score.append((d,AUC))\n"
   ]
  },
  {
   "cell_type": "code",
   "execution_count": 28,
   "id": "9fa4df4b",
   "metadata": {
    "execution": {
     "iopub.execute_input": "2024-01-14T06:29:51.346625Z",
     "iopub.status.busy": "2024-01-14T06:29:51.345385Z",
     "iopub.status.idle": "2024-01-14T06:29:51.700033Z",
     "shell.execute_reply": "2024-01-14T06:29:51.698831Z"
    },
    "papermill": {
     "duration": 0.385971,
     "end_time": "2024-01-14T06:29:51.702923",
     "exception": false,
     "start_time": "2024-01-14T06:29:51.316952",
     "status": "completed"
    },
    "tags": []
   },
   "outputs": [
    {
     "data": {
      "text/plain": [
       "<Axes: xlabel='max_depth', ylabel='AUC'>"
      ]
     },
     "execution_count": 28,
     "metadata": {},
     "output_type": "execute_result"
    },
    {
     "data": {
      "image/png": "[encoded data removed]",
      "text/plain": [
       "<Figure size 640x480 with 1 Axes>"
      ]
     },
     "metadata": {},
     "output_type": "display_data"
    }
   ],
   "source": [
    "df_score=pd.DataFrame(score,columns=['max_depth','AUC'])\n",
    "sns.lineplot(x=df_score.max_depth,y=df_score.AUC)"
   ]
  },
  {
   "cell_type": "code",
   "execution_count": 29,
   "id": "6690e06a",
   "metadata": {
    "execution": {
     "iopub.execute_input": "2024-01-14T06:29:51.751820Z",
     "iopub.status.busy": "2024-01-14T06:29:51.751426Z",
     "iopub.status.idle": "2024-01-14T06:29:53.109149Z",
     "shell.execute_reply": "2024-01-14T06:29:53.107928Z"
    },
    "papermill": {
     "duration": 1.385758,
     "end_time": "2024-01-14T06:29:53.112035",
     "exception": false,
     "start_time": "2024-01-14T06:29:51.726277",
     "status": "completed"
    },
    "tags": []
   },
   "outputs": [],
   "source": [
    "n=[10,20,30,50,70,80,100,120,150]\n",
    "n_score=[]\n",
    "for n in max_depth:\n",
    "      model=RandomForestClassifier(n_estimators=n)\n",
    "      model.fit(X_train,y_train)\n",
    "      y_pred=model.predict_proba(X_test)[:,1]\n",
    "      AUC=roc_auc_score(y_test,y_pred)\n",
    "      n_score.append((n,AUC))"
   ]
  },
  {
   "cell_type": "code",
   "execution_count": 30,
   "id": "0c689241",
   "metadata": {
    "execution": {
     "iopub.execute_input": "2024-01-14T06:29:53.160448Z",
     "iopub.status.busy": "2024-01-14T06:29:53.160011Z",
     "iopub.status.idle": "2024-01-14T06:29:53.167592Z",
     "shell.execute_reply": "2024-01-14T06:29:53.166528Z"
    },
    "papermill": {
     "duration": 0.034723,
     "end_time": "2024-01-14T06:29:53.170192",
     "exception": false,
     "start_time": "2024-01-14T06:29:53.135469",
     "status": "completed"
    },
    "tags": []
   },
   "outputs": [
    {
     "data": {
      "text/plain": [
       "[(2, 0.8833333333333333),\n",
       " (4, 0.8766666666666666),\n",
       " (6, 0.9816666666666667),\n",
       " (8, 0.9733333333333334),\n",
       " (10, 0.9516666666666667),\n",
       " (15, 0.9766666666666667),\n",
       " (20, 0.9500000000000001),\n",
       " (25, 0.9616666666666667),\n",
       " (30, 0.9716666666666666),\n",
       " (35, 0.9716666666666667),\n",
       " (40, 0.9600000000000001),\n",
       " (45, 0.9666666666666667),\n",
       " (50, 0.9633333333333334),\n",
       " (100, 0.9616666666666666),\n",
       " (150, 0.9633333333333334)]"
      ]
     },
     "execution_count": 30,
     "metadata": {},
     "output_type": "execute_result"
    }
   ],
   "source": [
    "n_score"
   ]
  },
  {
   "cell_type": "code",
   "execution_count": 31,
   "id": "89e0a6c1",
   "metadata": {
    "execution": {
     "iopub.execute_input": "2024-01-14T06:29:53.219250Z",
     "iopub.status.busy": "2024-01-14T06:29:53.218815Z",
     "iopub.status.idle": "2024-01-14T06:29:53.545773Z",
     "shell.execute_reply": "2024-01-14T06:29:53.544813Z"
    },
    "papermill": {
     "duration": 0.354203,
     "end_time": "2024-01-14T06:29:53.548044",
     "exception": false,
     "start_time": "2024-01-14T06:29:53.193841",
     "status": "completed"
    },
    "tags": []
   },
   "outputs": [
    {
     "data": {
      "text/plain": [
       "<Axes: xlabel='n_estimator', ylabel='AUC'>"
      ]
     },
     "execution_count": 31,
     "metadata": {},
     "output_type": "execute_result"
    },
    {
     "data": {
      "image/png": "[encoded data removed]",
      "text/plain": [
       "<Figure size 640x480 with 1 Axes>"
      ]
     },
     "metadata": {},
     "output_type": "display_data"
    }
   ],
   "source": [
    "df_n_score=pd.DataFrame(n_score,columns=['n_estimator','AUC'])\n",
    "sns.lineplot(x=df_n_score.n_estimator,y=df_n_score.AUC)"
   ]
  },
  {
   "cell_type": "markdown",
   "id": "3a95ab33",
   "metadata": {
    "papermill": {
     "duration": 0.025725,
     "end_time": "2024-01-14T06:29:53.599825",
     "exception": false,
     "start_time": "2024-01-14T06:29:53.574100",
     "status": "completed"
    },
    "tags": []
   },
   "source": [
    "# Train the final model  with parameters"
   ]
  },
  {
   "cell_type": "code",
   "execution_count": 32,
   "id": "2d41a272",
   "metadata": {
    "execution": {
     "iopub.execute_input": "2024-01-14T06:29:53.653715Z",
     "iopub.status.busy": "2024-01-14T06:29:53.653049Z",
     "iopub.status.idle": "2024-01-14T06:29:53.847151Z",
     "shell.execute_reply": "2024-01-14T06:29:53.846279Z"
    },
    "papermill": {
     "duration": 0.2245,
     "end_time": "2024-01-14T06:29:53.849390",
     "exception": false,
     "start_time": "2024-01-14T06:29:53.624890",
     "status": "completed"
    },
    "tags": []
   },
   "outputs": [
    {
     "data": {
      "text/plain": [
       "0.9633333333333334"
      ]
     },
     "execution_count": 32,
     "metadata": {},
     "output_type": "execute_result"
    }
   ],
   "source": [
    "final_model=RandomForestClassifier(max_depth=20,n_estimators=80,random_state=42)\n",
    "final_model.fit(X_train,y_train)\n",
    "y_pred=final_model.predict_proba(X_test)[:,1]\n",
    "AUC=roc_auc_score(y_test,y_pred)\n",
    "AUC"
   ]
  },
  {
   "cell_type": "code",
   "execution_count": 33,
   "id": "f3d15c3a",
   "metadata": {
    "execution": {
     "iopub.execute_input": "2024-01-14T06:29:53.901650Z",
     "iopub.status.busy": "2024-01-14T06:29:53.900994Z",
     "iopub.status.idle": "2024-01-14T06:29:54.327661Z",
     "shell.execute_reply": "2024-01-14T06:29:54.326715Z"
    },
    "papermill": {
     "duration": 0.455103,
     "end_time": "2024-01-14T06:29:54.329898",
     "exception": false,
     "start_time": "2024-01-14T06:29:53.874795",
     "status": "completed"
    },
    "tags": []
   },
   "outputs": [
    {
     "data": {
      "image/png": "[encoded data removed]",
      "text/plain": [
       "<Figure size 640x480 with 1 Axes>"
      ]
     },
     "metadata": {},
     "output_type": "display_data"
    }
   ],
   "source": [
    "fpr,tpr,threashouds=roc_curve(y_test,y_pred)\n",
    "plt.plot(fpr, tpr, label='ROC curve')\n",
    "plt.plot([0, 1], [0, 1], 'k--')  # Random guessing line\n",
    "plt.xlabel('False Positive Rate (FPR)')\n",
    "plt.ylabel('True Positive Rate (TPR)')\n",
    "plt.title('Receiver Operating Characteristic  final model')\n",
    "plt.legend(loc='lower right')\n",
    "plt.show()"
   ]
  },
  {
   "cell_type": "markdown",
   "id": "fcd1f95e",
   "metadata": {
    "papermill": {
     "duration": 0.024794,
     "end_time": "2024-01-14T06:29:54.379379",
     "exception": false,
     "start_time": "2024-01-14T06:29:54.354585",
     "status": "completed"
    },
    "tags": []
   },
   "source": [
    "# cross validation "
   ]
  },
  {
   "cell_type": "code",
   "execution_count": 34,
   "id": "3b1e9edb",
   "metadata": {
    "execution": {
     "iopub.execute_input": "2024-01-14T06:29:54.435876Z",
     "iopub.status.busy": "2024-01-14T06:29:54.435104Z",
     "iopub.status.idle": "2024-01-14T06:29:55.412081Z",
     "shell.execute_reply": "2024-01-14T06:29:55.410618Z"
    },
    "papermill": {
     "duration": 1.009314,
     "end_time": "2024-01-14T06:29:55.414973",
     "exception": false,
     "start_time": "2024-01-14T06:29:54.405659",
     "status": "completed"
    },
    "tags": []
   },
   "outputs": [
    {
     "data": {
      "text/plain": [
       "0.9346734105876392"
      ]
     },
     "execution_count": 34,
     "metadata": {},
     "output_type": "execute_result"
    }
   ],
   "source": [
    "cv_scores=cross_val_score(final_model,X,y,cv=5,scoring='roc_auc')\n",
    "cv_scores_avrage=cv_scores.mean()\n",
    "cv_scores_avrage"
   ]
  },
  {
   "cell_type": "markdown",
   "id": "476fd7a2",
   "metadata": {
    "papermill": {
     "duration": 0.024416,
     "end_time": "2024-01-14T06:29:55.464701",
     "exception": false,
     "start_time": "2024-01-14T06:29:55.440285",
     "status": "completed"
    },
    "tags": []
   },
   "source": [
    "#  model feature importance"
   ]
  },
  {
   "cell_type": "code",
   "execution_count": 35,
   "id": "8b9afbab",
   "metadata": {
    "execution": {
     "iopub.execute_input": "2024-01-14T06:29:55.516113Z",
     "iopub.status.busy": "2024-01-14T06:29:55.515707Z",
     "iopub.status.idle": "2024-01-14T06:29:55.532109Z",
     "shell.execute_reply": "2024-01-14T06:29:55.530702Z"
    },
    "papermill": {
     "duration": 0.045605,
     "end_time": "2024-01-14T06:29:55.535202",
     "exception": false,
     "start_time": "2024-01-14T06:29:55.489597",
     "status": "completed"
    },
    "tags": []
   },
   "outputs": [
    {
     "data": {
      "text/plain": [
       "array([0.04263251, 0.20961195, 0.03471178, 0.06795688, 0.05086497,\n",
       "       0.05485212, 0.05851325, 0.05116099, 0.08481238, 0.05643248,\n",
       "       0.07095905, 0.05028581, 0.0504376 , 0.0658183 , 0.05094992])"
      ]
     },
     "execution_count": 35,
     "metadata": {},
     "output_type": "execute_result"
    }
   ],
   "source": [
    "columns=X.columns\n",
    "reshaped_columns = np.array(X.columns).reshape(-1, 1)\n",
    "\n",
    "feature_importance=final_model.feature_importances_\n",
    "feature_importance"
   ]
  },
  {
   "cell_type": "code",
   "execution_count": 36,
   "id": "f46f0e0c",
   "metadata": {
    "execution": {
     "iopub.execute_input": "2024-01-14T06:29:55.587641Z",
     "iopub.status.busy": "2024-01-14T06:29:55.587220Z",
     "iopub.status.idle": "2024-01-14T06:29:55.594581Z",
     "shell.execute_reply": "2024-01-14T06:29:55.593397Z"
    },
    "papermill": {
     "duration": 0.036937,
     "end_time": "2024-01-14T06:29:55.597259",
     "exception": false,
     "start_time": "2024-01-14T06:29:55.560322",
     "status": "completed"
    },
    "tags": []
   },
   "outputs": [],
   "source": [
    "df_feaures=df = pd.DataFrame({'Feature_Importance': feature_importance, 'feature': columns})\n",
    "df_feaures=df.sort_values(by='Feature_Importance',ascending=False)"
   ]
  },
  {
   "cell_type": "code",
   "execution_count": 37,
   "id": "4b0d9de7",
   "metadata": {
    "execution": {
     "iopub.execute_input": "2024-01-14T06:29:55.648961Z",
     "iopub.status.busy": "2024-01-14T06:29:55.648497Z",
     "iopub.status.idle": "2024-01-14T06:29:55.661504Z",
     "shell.execute_reply": "2024-01-14T06:29:55.660282Z"
    },
    "papermill": {
     "duration": 0.042165,
     "end_time": "2024-01-14T06:29:55.664150",
     "exception": false,
     "start_time": "2024-01-14T06:29:55.621985",
     "status": "completed"
    },
    "tags": []
   },
   "outputs": [
    {
     "data": {
      "text/html": [
       "<div>\n",
       "<style scoped>\n",
       "    .dataframe tbody tr th:only-of-type {\n",
       "        vertical-align: middle;\n",
       "    }\n",
       "\n",
       "    .dataframe tbody tr th {\n",
       "        vertical-align: top;\n",
       "    }\n",
       "\n",
       "    .dataframe thead th {\n",
       "        text-align: right;\n",
       "    }\n",
       "</style>\n",
       "<table border=\"1\" class=\"dataframe\">\n",
       "  <thead>\n",
       "    <tr style=\"text-align: right;\">\n",
       "      <th></th>\n",
       "      <th>Feature_Importance</th>\n",
       "      <th>feature</th>\n",
       "    </tr>\n",
       "  </thead>\n",
       "  <tbody>\n",
       "    <tr>\n",
       "      <th>1</th>\n",
       "      <td>0.209612</td>\n",
       "      <td>AGE</td>\n",
       "    </tr>\n",
       "    <tr>\n",
       "      <th>8</th>\n",
       "      <td>0.084812</td>\n",
       "      <td>ALLERGY</td>\n",
       "    </tr>\n",
       "    <tr>\n",
       "      <th>10</th>\n",
       "      <td>0.070959</td>\n",
       "      <td>ALCOHOL CONSUMING</td>\n",
       "    </tr>\n",
       "    <tr>\n",
       "      <th>3</th>\n",
       "      <td>0.067957</td>\n",
       "      <td>YELLOW_FINGERS</td>\n",
       "    </tr>\n",
       "    <tr>\n",
       "      <th>13</th>\n",
       "      <td>0.065818</td>\n",
       "      <td>SWALLOWING DIFFICULTY</td>\n",
       "    </tr>\n",
       "    <tr>\n",
       "      <th>6</th>\n",
       "      <td>0.058513</td>\n",
       "      <td>CHRONIC DISEASE</td>\n",
       "    </tr>\n",
       "    <tr>\n",
       "      <th>9</th>\n",
       "      <td>0.056432</td>\n",
       "      <td>WHEEZING</td>\n",
       "    </tr>\n",
       "    <tr>\n",
       "      <th>5</th>\n",
       "      <td>0.054852</td>\n",
       "      <td>PEER_PRESSURE</td>\n",
       "    </tr>\n",
       "    <tr>\n",
       "      <th>7</th>\n",
       "      <td>0.051161</td>\n",
       "      <td>FATIGUE</td>\n",
       "    </tr>\n",
       "    <tr>\n",
       "      <th>14</th>\n",
       "      <td>0.050950</td>\n",
       "      <td>CHEST PAIN</td>\n",
       "    </tr>\n",
       "    <tr>\n",
       "      <th>4</th>\n",
       "      <td>0.050865</td>\n",
       "      <td>ANXIETY</td>\n",
       "    </tr>\n",
       "    <tr>\n",
       "      <th>12</th>\n",
       "      <td>0.050438</td>\n",
       "      <td>SHORTNESS OF BREATH</td>\n",
       "    </tr>\n",
       "    <tr>\n",
       "      <th>11</th>\n",
       "      <td>0.050286</td>\n",
       "      <td>COUGHING</td>\n",
       "    </tr>\n",
       "    <tr>\n",
       "      <th>0</th>\n",
       "      <td>0.042633</td>\n",
       "      <td>GENDER</td>\n",
       "    </tr>\n",
       "    <tr>\n",
       "      <th>2</th>\n",
       "      <td>0.034712</td>\n",
       "      <td>SMOKING</td>\n",
       "    </tr>\n",
       "  </tbody>\n",
       "</table>\n",
       "</div>"
      ],
      "text/plain": [
       "    Feature_Importance                feature\n",
       "1             0.209612                    AGE\n",
       "8             0.084812               ALLERGY \n",
       "10            0.070959      ALCOHOL CONSUMING\n",
       "3             0.067957         YELLOW_FINGERS\n",
       "13            0.065818  SWALLOWING DIFFICULTY\n",
       "6             0.058513        CHRONIC DISEASE\n",
       "9             0.056432               WHEEZING\n",
       "5             0.054852          PEER_PRESSURE\n",
       "7             0.051161               FATIGUE \n",
       "14            0.050950             CHEST PAIN\n",
       "4             0.050865                ANXIETY\n",
       "12            0.050438    SHORTNESS OF BREATH\n",
       "11            0.050286               COUGHING\n",
       "0             0.042633                 GENDER\n",
       "2             0.034712                SMOKING"
      ]
     },
     "execution_count": 37,
     "metadata": {},
     "output_type": "execute_result"
    }
   ],
   "source": [
    "df_feaures"
   ]
  },
  {
   "cell_type": "code",
   "execution_count": 38,
   "id": "2d622be9",
   "metadata": {
    "execution": {
     "iopub.execute_input": "2024-01-14T06:29:55.716500Z",
     "iopub.status.busy": "2024-01-14T06:29:55.716072Z",
     "iopub.status.idle": "2024-01-14T06:29:56.195360Z",
     "shell.execute_reply": "2024-01-14T06:29:56.193472Z"
    },
    "papermill": {
     "duration": 0.509321,
     "end_time": "2024-01-14T06:29:56.198583",
     "exception": false,
     "start_time": "2024-01-14T06:29:55.689262",
     "status": "completed"
    },
    "tags": []
   },
   "outputs": [
    {
     "data": {
      "text/plain": [
       "<Axes: xlabel='Feature_Importance', ylabel='feature'>"
      ]
     },
     "execution_count": 38,
     "metadata": {},
     "output_type": "execute_result"
    },
    {
     "data": {
      "image/png": "[encoded data removed]",
      "text/plain": [
       "<Figure size 640x480 with 1 Axes>"
      ]
     },
     "metadata": {},
     "output_type": "display_data"
    }
   ],
   "source": [
    "sns.barplot(x='Feature_Importance',y='feature',data=df_feaures)\n"
   ]
  }
 ],
 "metadata": {
  "kaggle": {
   "accelerator": "none",
   "dataSources": [
    {
     "datasetId": 2206522,
     "sourceId": 3947767,
     "sourceType": "datasetVersion"
    }
   ],
   "dockerImageVersionId": 30635,
   "isGpuEnabled": false,
   "isInternetEnabled": true,
   "language": "python",
   "sourceType": "notebook"
  },
  "kernelspec": {
   "display_name": "Python 3",
   "language": "python",
   "name": "python3"
  },
  "language_info": {
   "codemirror_mode": {
    "name": "ipython",
    "version": 3
   },
   "file_extension": ".py",
   "mimetype": "text/x-python",
   "name": "python",
   "nbconvert_exporter": "python",
   "pygments_lexer": "ipython3",
   "version": "3.10.12"
  },
  "papermill": {
   "default_parameters": {},
   "duration": 20.754188,
   "end_time": "2024-01-14T06:29:57.051185",
   "environment_variables": {},
   "exception": null,
   "input_path": "__notebook__.ipynb",
   "output_path": "__notebook__.ipynb",
   "parameters": {},
   "start_time": "2024-01-14T06:29:36.296997",
   "version": "2.4.0"
  }
 },
 "nbformat": 4,
 "nbformat_minor": 5
}
